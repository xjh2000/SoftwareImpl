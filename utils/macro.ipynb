{
 "cells": [
  {
   "cell_type": "code",
   "execution_count": 2,
   "metadata": {},
   "outputs": [
    {
     "name": "stdout",
     "output_type": "stream",
     "text": [
      "hello world\n"
     ]
    }
   ],
   "source": [
    "print(\"hello world\")"
   ]
  },
  {
   "cell_type": "code",
   "execution_count": null,
   "metadata": {},
   "outputs": [
    {
     "ename": "",
     "evalue": "",
     "output_type": "error",
     "traceback": [
      "\u001b[1;31mRunning cells with 'c' requires the ipykernel package.\n",
      "\u001b[1;31mRun the following command to install 'ipykernel' into the Python environment. \n",
      "\u001b[1;31mCommand: 'conda install -n c ipykernel --update-deps --force-reinstall'"
     ]
    }
   ],
   "source": [
    "import re\n",
    "\n",
    "def replace_macros(filename):\n",
    "    with open(filename, 'r') as file:\n",
    "        lines = file.readlines()\n",
    "\n",
    "    macros = {}\n",
    "    i = 0\n",
    "    while i < len(lines):\n",
    "        line = lines[i].strip()\n",
    "        if line.startswith('.macro'):\n",
    "            macro_name = line.split()[1]\n",
    "            macro_args = line.split()[2:]\n",
    "            macro_body = []\n",
    "            i += 1\n",
    "            while not lines[i].strip().startswith('.endm'):\n",
    "                macro_body.append(lines[i])\n",
    "                i += 1\n",
    "            macros[macro_name] = (macro_args, macro_body)\n",
    "        i += 1\n",
    "\n",
    "    with open(filename, 'w') as file:\n",
    "        for line in lines:\n",
    "            if line.strip().split()[0] in macros:\n",
    "                macro_name = line.strip().split()[0]\n",
    "                macro_args = line.strip().split()[1:]\n",
    "                macro_body = macros[macro_name][1]\n",
    "                for body_line in macro_body:\n",
    "                    for arg, value in zip(macros[macro_name][0], macro_args):\n",
    "                        body_line = body_line.replace(arg, value)\n",
    "                    file.write(body_line)\n",
    "            elif not line.strip().startswith('.macro'):\n",
    "                file.write(line)\n",
    "\n",
    "replace_macros('aes_asm.S')"
   ]
  }
 ],
 "metadata": {
  "kernelspec": {
   "display_name": "c",
   "language": "python",
   "name": "python3"
  },
  "language_info": {
   "codemirror_mode": {
    "name": "ipython",
    "version": 3
   },
   "file_extension": ".py",
   "mimetype": "text/x-python",
   "name": "python",
   "nbconvert_exporter": "python",
   "pygments_lexer": "ipython3",
   "version": "3.11.7"
  }
 },
 "nbformat": 4,
 "nbformat_minor": 2
}
