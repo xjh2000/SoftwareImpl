{
 "cells": [
  {
   "cell_type": "code",
   "execution_count": 11,
   "metadata": {},
   "outputs": [],
   "source": [
    "import re\n",
    "\n",
    "# Read the original file\n",
    "with open(\"../src/aes_asm.S\", \"r\") as file:\n",
    "    lines = file.readlines()\n",
    "\n",
    "# Dictionary to hold macro definitions\n",
    "macros = {}\n",
    "\n",
    "# Parse the file for macro definitions\n",
    "new_lines = []\n",
    "i = 0\n",
    "while i < len(lines):\n",
    "    if \".macro\" in lines[i]:\n",
    "        # Extract the macro name and arguments\n",
    "        parts = lines[i].split()\n",
    "        macro_name = parts[1]\n",
    "        macro_args = [arg for part in parts[2:] for arg in part.split(',')] if len(parts) > 2 else []\n",
    "        macro_args = [arg for arg in macro_args if arg != '']\n",
    "\n",
    "        # Find the end of the macro definition\n",
    "        end_index = i\n",
    "        while \".endm\" not in lines[end_index]:\n",
    "            end_index += 1\n",
    "\n",
    "        # Store the macro definition and arguments\n",
    "        macros[macro_name] = (macro_args, lines[i + 1 : end_index])\n",
    "\n",
    "        # Skip over the macro definition\n",
    "        i = end_index + 1\n",
    "    else:\n",
    "        # Keep this line\n",
    "        new_lines.append(lines[i])\n",
    "        i += 1\n",
    "\n",
    "lines = new_lines\n",
    "\n",
    "# Expand the macros\n",
    "for i in range(len(lines)):\n",
    "    for macro in macros:\n",
    "        if macro in lines[i]:\n",
    "            # Extract the arguments from the macro invocation\n",
    "            parts = lines[i].split()\n",
    "            invocation_args = parts[1:] if len(parts) > 1 else []\n",
    "\n",
    "            # Replace the arguments in the macro definition with the invocation arguments\n",
    "            definition = [line for line in macros[macro][1]]\n",
    "            for arg, value in zip(macros[macro][0], invocation_args):\n",
    "                definition = [line.replace(\"\\\\\"+arg, value) for line in definition]\n",
    "\n",
    "            # Replace the macro invocation with its definition\n",
    "            lines[i:i+1] = definition\n",
    "\n",
    "# Write the result to a new file\n",
    "with open(\"../src/aes_asm_expanded.S\", \"w\") as file:\n",
    "    file.writelines(lines)"
   ]
  }
 ],
 "metadata": {
  "kernelspec": {
   "display_name": "c",
   "language": "python",
   "name": "python3"
  },
  "language_info": {
   "codemirror_mode": {
    "name": "ipython",
    "version": 3
   },
   "file_extension": ".py",
   "mimetype": "text/x-python",
   "name": "python",
   "nbconvert_exporter": "python",
   "pygments_lexer": "ipython3",
   "version": "3.11.7"
  }
 },
 "nbformat": 4,
 "nbformat_minor": 2
}
